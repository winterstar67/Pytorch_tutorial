{
 "cells": [
  {
   "cell_type": "markdown",
   "id": "e823e5b4-b339-4781-9a0d-b48e2fc3945b",
   "metadata": {},
   "source": [
    "# Introduction to PyTorch\n",
    "\n",
    "https://pytorch.org/tutorials/beginner/introyt/introyt1_tutorial.html"
   ]
  },
  {
   "cell_type": "markdown",
   "id": "56e5793b-762a-431c-9abd-2c838f597cae",
   "metadata": {},
   "source": [
    "## Pytorch Tensors (영상 03:50 ~ 10:00)\n",
    "이미 한번 다룬 내용이라 pass"
   ]
  },
  {
   "cell_type": "markdown",
   "id": "b8e4ca38-b2af-4595-94d7-420004f9a5e0",
   "metadata": {},
   "source": [
    "## Pytorch Models (영상 10:00)\n",
    "\n",
    "Pytorch에서 모델을 표현하는 방법에 대해서 알아본다."
   ]
  },
  {
   "cell_type": "code",
   "execution_count": 1,
   "id": "f38356bb-80d2-465a-9216-775b99aa7045",
   "metadata": {
    "tags": []
   },
   "outputs": [],
   "source": [
    "import torch\n",
    "import torch.nn as nn\n",
    "import torch.nn.functional as F"
   ]
  },
  {
   "cell_type": "markdown",
   "id": "08cc2779-67dd-4876-ac4b-a7a91acbd324",
   "metadata": {},
   "source": [
    "![LeNet5](https://tutorials.pytorch.kr/_images/mnist.png)"
   ]
  },
  {
   "cell_type": "markdown",
   "id": "87824bfc-83a9-496f-bfc5-d264a432196d",
   "metadata": {},
   "source": [
    "그림: LeNet-5"
   ]
  },
  {
   "cell_type": "markdown",
   "id": "84c6bf95-ec21-46eb-87ed-824a1d8f9378",
   "metadata": {},
   "source": [
    "LeNet-5는 초기 합성곱 신경망 중 하나이자 딥러닝에서 폭발적인 인기를 일으킨 요인중 하나이다. 손으로 쓴 숫자이미지(MNIST)를 읽고 이미지에 어떤 숫자가 표현되었는지 정확히 분류하기 위해 제작되었음.  \n",
    "\n",
    "LeNet-5의 동작에 대한 설명은 다음과 같다.\n",
    "- 계층 C1: 합성공 계층으로, 입력 이미지를 스캔하여 training 도중에 배웠던 feature를 찾고자 함. 그 결과, 학습한 image의 feature 각각에 대한 map을 반환함. 이는 `activation map`이라고 하고, layer S2에 의해 downsampling 된다. \n",
    "- 계층 C3: 또 다른 합성공 계층으로, 이번에는 C1의 activation map을 스캔하여 feature들의 combination을 찾고자 함. 이것 역시 공간적 `activation map`을 반환한다. 이 map은 feature combinations의 공간적 위치를 기술하며, 이는 S4에서 downsampling 된다.\n",
    "- 마지막으로 fully connected layers인 F5, F6, OUTPUT은 최종 `activation map`을 가져와 십진수를 표현하는 10개의 class 중 하나로 분류하는 분류기이다."
   ]
  },
  {
   "cell_type": "markdown",
   "id": "af84146b-a7ae-49c6-8bc8-cda40e80435e",
   "metadata": {},
   "source": [
    "이 simple 한 neural network를 코드로 표현해본다."
   ]
  },
  {
   "cell_type": "code",
   "execution_count": 2,
   "id": "ce606c15-1f8a-48e9-bc68-a6b082eff59e",
   "metadata": {},
   "outputs": [],
   "source": [
    "class LeNet(nn.Module):\n",
    "    def __init__(self):\n",
    "        super(LeNet, self).__init__()\n",
    "        # Figure를 보면 크기가 32*32인 입력 채널 1개에서 다음 output은 크기가 28*28인 채널 6개이다. 따라서 입력 1개, output 6개, 32->28이 되기 위해 크기가 5인 커널을 사용해야한다.\n",
    "        self.conv1 = nn.Conv2d(1, 6, 5) # 이는 입력 이미지 채널 1개, 6개의 output 채널, 5*5 정방 합성곱 커널을 사용한다는 의미이다.\n",
    "        self.conv2 = nn.Conv2d(6, 16, 5) # 이는 입력 이미지 채널 6개, 16개의 output 채널, 5*5 정방 합성곱 커널을 사용한다는 의미이다.\n",
    "            \n",
    "        self.fc1 = nn.Linear(16*5*5, 120)\n",
    "        self.fc2 = nn.Linear(120,84)\n",
    "        self.fc3 = nn.Linear(84,10)\n",
    "        \n",
    "    def forward(self, x):\n",
    "        x = F.max_pool2d(F.relu(self.conv1(x)),(2,2)) # height랑 weight에서 pooling 사이즈 어떻게 잡을지인데, 이렇게 2*2로 둘의 크기가 같다면 2 하나만 적어도 된다.        \n",
    "        x = F.max_pool2d(F.relu(self.conv2(x)),2)\n",
    "        \n",
    "        # 5*5크기의 맵이 16개 있는 상태에서 이를 어떻게 처리하는지 보여줌.\n",
    "        # 먼저 num_flat_features이라고 하는 함수에 x를 넣는데, num_flat_features는 하나의 맵안에 있는 픽셀의 총 개수이다. 여기선 25개.\n",
    "        # 그 후에 view(-1)를 적용한다. 즉, x.view(-1,25)로, x.shape는 ([num_of_map,feature의 개수]) 가 된다.\n",
    "        print('Before num_flat_features:',x.shape)\n",
    "        x = x.view(-1, self.num_flat_features(x))\n",
    "        print('After num_flat_features:',x.shape)\n",
    "        \n",
    "        x = F.relu(self.fc1(x))\n",
    "        x = F.relu(self.fc2(x))\n",
    "        x = self.fc3(x)\n",
    "        \n",
    "        return x\n",
    "    \n",
    "    def num_flat_features(self, x):\n",
    "        size = x.size()[1:] # batch dimension을 제외한 모든 차원, 즉 여기선 5*5 크기의 맵을 넣음으로써, size는 (5,5)가 될 것이다.\n",
    "        num_features = 1\n",
    "        for s in size:\n",
    "            num_features *= s # 이는 이번 예시로 보면 5*5가 되어 num_features는 25가 된다.\n",
    "            \n",
    "        return num_features        "
   ]
  },
  {
   "cell_type": "markdown",
   "id": "d7bdc080-c7aa-4f96-b22c-00dd16db02e0",
   "metadata": {},
   "source": [
    "이 코드에서 각각의 코드가 위의 LeNet Figure에 어떻게 대응되는지 파악할 수 있어야한다.  \n",
    "위의 모델이 Pytorch model의 전형적인 구조를 보여준다.  \n",
    "- torch.nn.Module을 상속받음,모듈들은 중첩(?)할 수도 있음 ,Conv2d와 Linear 레이어 classes도 torch.nn.Module에서 상속받은 것이다.\n",
    "    - 상속을 받으면 nn.Module에 있는 모든 함수를 상속받아 사용 가능하다.\n",
    "    - 참고1: https://stackoverflow.com/questions/72505199/why-do-we-need-to-inherit-from-nn-module-in-pytorch\n",
    "    \n",
    "    - 상속받을 때 super()의 의미: https://velog.io/@qw4735/Pytorch-nn.Module%EC%9D%84-%EC%83%81%EC%86%8D%EB%B0%9B%EC%9D%84-%EB%95%8C-super.init%EC%9D%84-%ED%95%98%EB%8A%94-%EC%9D%B4%EC%9C%A0\n",
    "    \n",
    "- 모델은 `__init__()` 이라는 함수를 가진다 - 이는 모델의 layers를 인스턴스화 하고, 모델이 필요한 어떤 데이터든 load를 한다.\n",
    "- 모델은 `forward()` 함수를 가진다 - 이는 실제 계산이 이루어지는 파트이다. input은 네트워크의 layers와 다양한 functions에 전달되고 output을 return한다.\n",
    "- 그 외에도 사용자는 어떤 필요한 properties나 methods를 추가하면서, 사용자만의 model classs를 다른 Python class 처럼 만들 수 있다. "
   ]
  },
  {
   "cell_type": "markdown",
   "id": "8b65047e-3c12-4d1e-b0eb-239ce3921018",
   "metadata": {},
   "source": [
    "이제 모델 object를 instance로 만들어서 input 샘플과 함께 실행을 해본다."
   ]
  },
  {
   "cell_type": "code",
   "execution_count": 3,
   "id": "97c73ae1-542f-4513-a181-75c98dbc20d2",
   "metadata": {},
   "outputs": [
    {
     "name": "stdout",
     "output_type": "stream",
     "text": [
      "LeNet(\n",
      "  (conv1): Conv2d(1, 6, kernel_size=(5, 5), stride=(1, 1))\n",
      "  (conv2): Conv2d(6, 16, kernel_size=(5, 5), stride=(1, 1))\n",
      "  (fc1): Linear(in_features=400, out_features=120, bias=True)\n",
      "  (fc2): Linear(in_features=120, out_features=84, bias=True)\n",
      "  (fc3): Linear(in_features=84, out_features=10, bias=True)\n",
      ")\n",
      "\n",
      "Image batch shape:\n",
      "torch.Size([1, 1, 32, 32])\n",
      "Before num_flat_features: torch.Size([1, 16, 5, 5])\n",
      "After num_flat_features: torch.Size([1, 400])\n",
      "\n",
      "Raw output:\n",
      "tensor([[-0.0452, -0.0564, -0.1088, -0.0037,  0.0078, -0.0708, -0.0752,  0.0604,\n",
      "          0.0597, -0.0320]], grad_fn=<AddmmBackward0>)\n",
      "torch.Size([1, 10])\n"
     ]
    }
   ],
   "source": [
    "net = LeNet()\n",
    "print(net)\n",
    "\n",
    "input_image = torch.rand(1, 1, 32, 32) # 32*32 black & white image\n",
    "print('\\nImage batch shape:')\n",
    "print(input_image.shape)\n",
    "\n",
    "output = net(input_image) # 우리가 직접적으로 forward()를 호출하지 않는다.\n",
    "print('\\nRaw output:')\n",
    "print(output)\n",
    "print(output.shape)"
   ]
  },
  {
   "cell_type": "markdown",
   "id": "bbda9f9d-074b-499e-989a-91f68c70df15",
   "metadata": {},
   "source": [
    "위의 실행을 하나씩 살펴보자.\n",
    "\n",
    "먼저, 우리는 `LeNet`클래스를 인스턴스화 하였다. 그리고 `net` object를 print 해보았다. 이는 `torch.nn.Module`의 subclass는 이것이 생성한 layers, shape, parameters를 report해준다. 이는 model에 대한 유용한 개요를 제공하여, 모델 처리 요점을 파악하고자할 떄 쓰일 수 있다.\n",
    "\n",
    "이 이후에, 우리는 채널이 1개인 32$*$32 크기의 input을 만들었다. 보통, 우리는 image를 load하고 이를 이러한 shape의 텐서로 바꾸게 된다.  \n",
    "그런데, 1채널, 32$*$32를 제외하고 1이 추가로 붙은 것을 알 수 있는데, 이것은 `batch dimension` 이라고 하는 것이다. Pytorch models는 data의 batch와 함께 작동한다는 가정을 한다. 예를들어, 우리가 16개의 image를 다룬다면, shape는 (16,1,32,32)가 될 것이다. 하지만 위의 예시에서 우리는 image를 오직 하나만 사용했기 때문에, batch가 1인 상태였고, shape는 (1,1,32,32)였던 것이다.\n",
    "\n",
    "우리는 예측을 할 때, `net(input)`을 호출하여 예측을 하였다. `net(input)`의 output은 model이 \"이 input은 어떠어떠한 숫자를 나타낸다\"라고 얼마나 확신하는지 confidence를 나타낸다. `output`의 shape를 보면, 이 역시 batch dimension이 있음을 알 수 있다. output의 batch size는 input의 batch size와 크기가 항상 같아야한다. 만약 우리의 input batch가 16이였다면 output의 shape는 (16,10)이였을 것이다."
   ]
  },
  {
   "cell_type": "markdown",
   "id": "49f009a7-90f2-4d52-a4f8-c5e5ca068f6c",
   "metadata": {},
   "source": [
    "## Datasets and Dataloaders (영상 14:00 부터)"
   ]
  },
  {
   "cell_type": "markdown",
   "id": "bf1a0778-dea5-4d2c-942a-dc2f8a670505",
   "metadata": {},
   "source": [
    "여기서는 이미 다운받아진, 접근 가능한 dataset을 사용해서 어떻게 model에 맞게 image를 transform하고 모델에 data batch를 전달하는 DataLoader를 어떻게 사용할지 볼 것이다.\n",
    "\n",
    "먼저, 우리가 할 것은 우리의 image를 PyTorch tensor로 변환하는 것이다."
   ]
  },
  {
   "cell_type": "code",
   "execution_count": 4,
   "id": "57a449e1-31f2-498e-9b71-865d604f530a",
   "metadata": {},
   "outputs": [],
   "source": [
    "import torch\n",
    "import torchvision\n",
    "import torchvision.transforms as transforms\n",
    "\n",
    "transform = transforms.Compose(\n",
    "    [transforms.ToTensor(),\n",
    "     transforms.Normalize( (0.5,0.5,0.5), (0.5,0.5,0.5) )])"
   ]
  },
  {
   "cell_type": "markdown",
   "id": "2a03f736-a1ba-4de6-a4b6-d6032b33e871",
   "metadata": {},
   "source": [
    "위 코드에서 우리는 두가지 transformations를 명시했다.\n",
    "- `transforms.ToTensor()` 는 Pillow(PIL)로 불러온 이미지를 PyTorch tensors로 변환하는 역할을 한다.\n",
    "- `trnasforms.Normalize()` 는 tensor의 값을 조절하여 이들의 평균이 0이 되고, 표준편차가 0.5가 되도록 한다. 대부분 activation functions는 gradients값이 x=0 근처에서 가장 강하게 잡혀서, 데이터를 centering하는 것이 학습 속도를 빠르게 할 수 있다.\n",
    "\n",
    "이것 이외에도 `cropping`, `centering`, `rotation`, `reflection`과 같은 다양한 transforms가 있다.\n",
    "\n",
    "다음으로, CIFAR10 dataset의 instance를 생성해보자. 이는 32*32크기의 color image이고, 10 개의 클래스가 있다.\n",
    "- 10개의 클래스: 6개의 동물 클래스(bird, cat, deer, dog, frog, horse)와 4개의 탈 것(비행기, 자동차, 배, 트럭)"
   ]
  },
  {
   "cell_type": "code",
   "execution_count": 5,
   "id": "2c9116d4-aca8-4fa6-8303-d315c3bc1251",
   "metadata": {},
   "outputs": [
    {
     "name": "stdout",
     "output_type": "stream",
     "text": [
      "Files already downloaded and verified\n"
     ]
    }
   ],
   "source": [
    "trainset = torchvision.datasets.CIFAR10(root='./data', train=True, download=True, transform = transform)"
   ]
  },
  {
   "cell_type": "markdown",
   "id": "83c47b10-0a3d-4069-a2eb-a47cbc47aae2",
   "metadata": {},
   "source": [
    "이것은 PyTorch에서 dataset을 생성하는 예시이다. CIFAR-10같은 다운로드 가능한 dataset은 `torch.utils.data.Dataset`의 subclass이다. 파이토치에서 `Dataset` 클래스는 `torchvision.datasets.ImageFolder`말고도 TorchVision, Torchtext, TorchAudio의 다운로드 가능한 dataset을 포함한다. \n",
    "\n",
    "dataset을 instance화 할 때, 다음의 내용들을 언급해야한다.\n",
    "- 데이터를 어디로 보낼지 filesystem path를 명시해야한다.\n",
    "- 우리가 dataset을 training을 위해 사용할지 안할지, 대부분의 dataset은 training과 test subset으로 나뉜다.\n",
    "- 우리가 dataset이 없을 때, 이걸 다운로드 받고 싶은지 아닌지\n",
    "- 데이터에 적용하고 싶은 transformations\n",
    "\n",
    "위와 같은 내용들을 가지고 dataset이 준비가 됬으면, 이제 `DataLoader`에 준비한 dataset을 넘길 수 있다."
   ]
  },
  {
   "cell_type": "code",
   "execution_count": 6,
   "id": "df6d8d78-b31d-4d07-bc6f-5ce522a022cf",
   "metadata": {},
   "outputs": [],
   "source": [
    "trainloader = torch.utils.data.DataLoader(trainset, batch_size=4, shuffle=True, num_workers=2)"
   ]
  },
  {
   "cell_type": "markdown",
   "id": "5ace94fc-fb37-46b9-ba26-73d3f1c77fd1",
   "metadata": {},
   "source": [
    "`Dataset` subclass는 data에 대한 접근을 wrap(?)하고, 이것이 제공하는 data 타입에 특화되어있다 한다. DataLoader는 data에 대해서는 아무것도 모르고, Dataset으로부터 제공받은 input tensors를 사용자가 설정한 파라메터와 함께 batch로 organizes한다."
   ]
  },
  {
   "cell_type": "markdown",
   "id": "3bab89d3-f228-4fc0-b917-1e4e9d565623",
   "metadata": {},
   "source": [
    "위의 예시에서, 사용자는 `DataLoader`가 사용자에게 4개의 이미지 batch를 train set에서부터 달라고 요청하였고, 이들의 순서는 shuffle=True를 통해서 랜덤화 하였다.\n",
    "\n",
    "위에서 정의한 `DataLoader`가 제공하는 batch를 visualize해보자."
   ]
  },
  {
   "cell_type": "code",
   "execution_count": 7,
   "id": "48857615-377d-453d-8384-ff0cfb3f18ce",
   "metadata": {},
   "outputs": [
    {
     "name": "stdout",
     "output_type": "stream",
     "text": [
      "plane   cat   dog  frog\n"
     ]
    },
    {
     "data": {
      "image/png": "[encoded data removed]",
      "text/plain": [
       "<Figure size 640x480 with 1 Axes>"
      ]
     },
     "metadata": {},
     "output_type": "display_data"
    }
   ],
   "source": [
    "import matplotlib.pyplot as plt\n",
    "import numpy as np\n",
    "\n",
    "classes = ('plane', 'car', 'bird', 'cat',\n",
    "           'deer', 'dog', 'frog', 'horse', 'ship', 'truck')\n",
    "\n",
    "def imshow(img):\n",
    "    img = img / 2 + 0.5 # 지금 받는 데이터는 DataLoader에서 transforms를 적용한 상태, 먼저 transforms.Normalization을 푼다.\n",
    "    npimg = img.numpy() # ToTensor를 적용했던 것을 numpy 형태로 바꾼다.\n",
    "    plt.imshow(np.transpose(npimg, (1, 2, 0))) # 이미지 출력은 (너비, 높이?, 채널) 순서로 shape가 되어야 한다.\n",
    "    \n",
    "    \n",
    "detaiter = iter(trainloader)\n",
    "images, labels = next(detaiter)\n",
    "\n",
    "imshow(torchvision.utils.make_grid(images))\n",
    "\n",
    "print(' '.join('%5s' % classes[labels[j]] for j in range(4)))"
   ]
  },
  {
   "cell_type": "markdown",
   "id": "f03d41b0-43ad-463c-b5aa-82da35a9be5e",
   "metadata": {},
   "source": [
    "## Training Your PyTorch Model (영상 17:10 부터)"
   ]
  },
  {
   "cell_type": "markdown",
   "id": "461875f9-26be-4d32-b56e-7c1e41f62bef",
   "metadata": {},
   "source": [
    "이제 여태까지 봐왔던 것들을 한번에 모아서 model을 학습하자."
   ]
  },
  {
   "cell_type": "code",
   "execution_count": 8,
   "id": "fbce8d62-5c1b-4f45-b331-b1b29ca93fa0",
   "metadata": {},
   "outputs": [],
   "source": [
    "import torch\n",
    "import torch.nn as nn\n",
    "import torch.nn.functional as F\n",
    "import torch.optim as optim\n",
    "\n",
    "import torchvision\n",
    "import torchvision.transforms as transforms\n",
    "\n",
    "import matplotlib\n",
    "import matplotlib.pyplot as plt\n",
    "import numpy as np"
   ]
  },
  {
   "cell_type": "markdown",
   "id": "04b50345-7f03-4b27-bea9-bd992659e63b",
   "metadata": {},
   "source": [
    "먼저, training dataset과 test dataset이 필요하다. 아래 코드를 실행하여 데이터를 준비하자."
   ]
  },
  {
   "cell_type": "code",
   "execution_count": 9,
   "id": "ae4e01d7-f4f0-4e68-9147-97e1ef9135ba",
   "metadata": {},
   "outputs": [
    {
     "name": "stdout",
     "output_type": "stream",
     "text": [
      "Files already downloaded and verified\n"
     ]
    }
   ],
   "source": [
    "transform = transforms.Compose([\n",
    "    transforms.ToTensor(),\n",
    "    transforms.Normalize( (0.5, 0.5, 0.5), (0.5, 0.5, 0.5))]) \n",
    "\n",
    "trainset = torchvision.datasets.CIFAR10(root='./data', train=True, download=True, transform=transform)\n",
    "trainloader = torch.utils.data.DataLoader(trainset, batch_size=4, shuffle=True, num_workers=2)\n",
    "\n",
    "\n",
    "trainset = torchvision.datasets.CIFAR10(root='./data', train=True, download=False, transform=transform)\n",
    "trainloader = torch.utils.data.DataLoader(trainset, batch_size=4, shuffle=False, num_workers=2)\n",
    "\n",
    "classes = ('plane', 'car', 'bird', 'cat',\n",
    "           'deer', 'dog', 'frog', 'horse', 'ship', 'truck')"
   ]
  },
  {
   "cell_type": "markdown",
   "id": "6b1045d4-aa3d-4580-8466-b184aa2b56a4",
   "metadata": {},
   "source": [
    "DataLoader의 output을 확인해보자."
   ]
  },
  {
   "cell_type": "code",
   "execution_count": 10,
   "id": "f22d406b-4daa-41bb-a9f4-9221a0ac4397",
   "metadata": {
    "tags": []
   },
   "outputs": [
    {
     "name": "stdout",
     "output_type": "stream",
     "text": [
      " frog truck truck  deer\n"
     ]
    },
    {
     "data": {
      "image/png": "[encoded data removed]",
      "text/plain": [
       "<Figure size 640x480 with 1 Axes>"
      ]
     },
     "metadata": {},
     "output_type": "display_data"
    }
   ],
   "source": [
    "import matplotlib.pyplot as plt\n",
    "import numpy as np\n",
    "\n",
    "classes = ('plane', 'car', 'bird', 'cat',\n",
    "           'deer', 'dog', 'frog', 'horse', 'ship', 'truck')\n",
    "\n",
    "def imshow(img):\n",
    "    img = img / 2 + 0.5 # 지금 받는 데이터는 DataLoader에서 transforms를 적용한 상태, 먼저 transforms.Normalization을 푼다.\n",
    "    npimg = img.numpy() # ToTensor를 적용했던 것을 numpy 형태로 바꾼다.\n",
    "    plt.imshow(np.transpose(npimg, (1, 2, 0))) # 이미지 출력은 (너비, 높이?, 채널) 순서로 shape가 되어야 한다.\n",
    "    \n",
    "    \n",
    "detaiter = iter(trainloader)\n",
    "images, labels = next(detaiter)\n",
    "\n",
    "imshow(torchvision.utils.make_grid(images))\n",
    "\n",
    "print(' '.join('%5s' % classes[labels[j]] for j in range(4)))"
   ]
  },
  {
   "cell_type": "markdown",
   "id": "d97fcbcd-9d64-4ffb-806e-207cd6e4ee64",
   "metadata": {},
   "source": [
    "아래는 우리가 training할 모델이다. 아래는 `LeNet`의 변형 버전으로, 3색 image를 받아들이도록하는 모델이라 한다."
   ]
  },
  {
   "cell_type": "code",
   "execution_count": 11,
   "id": "882ca86a-57dc-4c00-b121-2c5cf40a40b0",
   "metadata": {},
   "outputs": [],
   "source": [
    "class Net(nn.Module):\n",
    "    def __init__(self):\n",
    "        super(Net, self).__init__()\n",
    "        self.conv1 = nn.Conv2d(3,6,5)\n",
    "        self.pool = nn.MaxPool2d(2,2)\n",
    "        self.conv2 = nn.Conv2d(6,16,5)\n",
    "        self.fc1 = nn.Linear(16*5*5, 120)\n",
    "        self.fc2 = nn.Linear(120,84)\n",
    "        self.fc3 = nn.Linear(84,10)\n",
    "        \n",
    "        \n",
    "    def forward(self, x):\n",
    "        x = self.pool(F.relu(self.conv1(x)))\n",
    "        x = self.pool(F.relu(self.conv2(x)))\n",
    "        x = x.view(-1,16*5*5)\n",
    "        x = F.relu(self.fc1(x))\n",
    "        x = F.relu(self.fc2(x))\n",
    "        x = self.fc3(x)\n",
    "        return x\n",
    "        \n",
    "net = Net()"
   ]
  },
  {
   "cell_type": "markdown",
   "id": "69a74c36-df19-404a-a90f-a2279bd9860b",
   "metadata": {},
   "source": [
    "마지막으로, loss function과 optimizer를 정의해야한다."
   ]
  },
  {
   "cell_type": "code",
   "execution_count": 12,
   "id": "e2f9e9d7-9d1a-48af-bba0-b1597686d953",
   "metadata": {},
   "outputs": [],
   "source": [
    "criterion = nn.CrossEntropyLoss()\n",
    "optimizer = optim.SGD(net.parameters(), lr=0.001, momentum=0.9)"
   ]
  },
  {
   "cell_type": "markdown",
   "id": "c7d21dab-d088-4008-85b3-777f764e0ca4",
   "metadata": {},
   "source": [
    "optimizer는 학습을 이끌어낸다. 여기서 우리는 stochastic gradient descent(SGD)로 구현된 optimizer를 정의하였고, SGD는 간단한 최적화 알고리즘 중 하나이다. `net.parameters()`도 optimizer의 인자값으로 넣어줬는데, 이는 model의 학습가능한 모든 weights들의 집합이라고 보면된다. 이는 optimizer가 조절하는 값이 된다.  \n",
    "\n",
    "마지막으로 위에서 정의한 것들을 training loop에 하나로 모아서 코드를 작성한다."
   ]
  },
  {
   "cell_type": "code",
   "execution_count": 14,
   "id": "ced6f2fb-3b24-4ab5-8069-bc91a6e7d38c",
   "metadata": {},
   "outputs": [
    {
     "name": "stdout",
     "output_type": "stream",
     "text": [
      "[1,  2000] loss: 2.241\n",
      "[1,  4000] loss: 1.873\n",
      "[1,  6000] loss: 1.697\n",
      "[1,  8000] loss: 1.572\n",
      "[1, 10000] loss: 1.517\n",
      "[1, 12000] loss: 1.484\n",
      "[2,  2000] loss: 1.404\n",
      "[2,  4000] loss: 1.367\n",
      "[2,  6000] loss: 1.336\n",
      "[2,  8000] loss: 1.326\n",
      "[2, 10000] loss: 1.298\n",
      "[2, 12000] loss: 1.299\n",
      "Finished Training\n"
     ]
    }
   ],
   "source": [
    "for epoch in range(2):  # loop over the dataset multiple times\n",
    "\n",
    "    running_loss = 0.0\n",
    "    for i, data in enumerate(trainloader, 0):\n",
    "        # get the inputs\n",
    "        inputs, labels = data\n",
    "\n",
    "        # zero the parameter gradients\n",
    "        optimizer.zero_grad()\n",
    "\n",
    "        # forward + backward + optimize\n",
    "        outputs = net(inputs)\n",
    "        loss = criterion(outputs, labels)\n",
    "        loss.backward()\n",
    "        optimizer.step()\n",
    "\n",
    "        # print statistics\n",
    "        running_loss += loss.item()\n",
    "        if i % 2000 == 1999:    # print every 2000 mini-batches\n",
    "            print('[%d, %5d] loss: %.3f' %\n",
    "                  (epoch + 1, i + 1, running_loss / 2000))\n",
    "            running_loss = 0.0\n",
    "\n",
    "print('Finished Training')\n"
   ]
  },
  {
   "cell_type": "markdown",
   "id": "89069e78-4e70-47b3-bb7b-94e037092ee3",
   "metadata": {},
   "source": [
    "하나씩 살펴보도록 하자. \n",
    "\n",
    "우리는 **2 training epoch**만을 설정하였다. 이는 training dataset을 2번 pass(넘긴다는 것)를 의미한다. 각 pass내부에서도 training data에 대한 iteration이 있는데, 이는 transformed된 input images와 이에 대응되는 labels의 batch를 넘기는 것을 의미한다.\n",
    "\n",
    "Gradients를 0으로 만드는 것(line 9)가 중요한 부분이다. Gradients는 batch마다 값이 축적된다. 만야 우리가 매번 batch마다 gradients를 reset하지 않으면, 이 gradient값은 계속 쌓일 것이다. 그렇게 되면, 이는 정확하지 않은 gradient 값을 주고, 학습을 불가능하게 만들 것이다.\n",
    "\n",
    "line 12는 모델이 각 batch에 대해서 예측하도록 하는 코드이다. line 13은 모델의 예측값(`output`)과 실제 라벨값(`label`)간의 loss를 계산한다.\n",
    "\n",
    "line 14는 `backward()`를 사용했는데, 이는 학습에 쓰일 gradient를 계산해주는 함수이다.\n",
    "\n",
    "line 15는 optimizer가 learning step 한번을 실행하는 것이다. 여기서 optimizer는 `backward()`에서 계산된 gradients를 가지고 손실이 줄어들 것 같은 방향으로 학습되는 weights값을 업데이트 한다.\n"
   ]
  },
  {
   "cell_type": "markdown",
   "id": "057d4be1-f617-4233-b5ad-5819332e9e22",
   "metadata": {},
   "source": [
    "loss는 단조롭게 감소하는데, 이는 우리의 모델 성능이 training dataset에 대해 계속 증가하고 있음을 가르킨다.\n",
    "\n",
    "마지막으로, 모델이 실제로 `일반적인(general)` 학습을 하는지, 모델이 그저 dataset을 암기하는 것은 아닌지 체크해야한다. 이러한 현상을 **overfitting**이라고 하는데, 이는 보통 dataset이 너무 작다는 것(general learning에 충분한 데이터가 아님) 혹은 모델이 dataset의 패턴을 정확히 모델링하는데에 필요한 것보다 더 많은 학습 parameter를 가지고 있는 것을 나타낸다.\n",
    "\n",
    "이것이 dataset을 training과 test set으로 분리해야하는 이유이다. 이 분리를 통해 model의 generality를 테스트할 수 있고, 모델이 학습하지 않은 데이터에 대해 예측을 하도록 할 수 있다."
   ]
  },
  {
   "cell_type": "code",
   "execution_count": 15,
   "id": "d2f9fffd-6d06-4985-9f48-b6b112e2d06c",
   "metadata": {
    "tags": []
   },
   "outputs": [
    {
     "name": "stdout",
     "output_type": "stream",
     "text": [
      "Accuracy of the network on the 10000 test images: 54 %\n"
     ]
    }
   ],
   "source": [
    "correct = 0\n",
    "total = 0\n",
    "with torch.no_grad():\n",
    "    for data in testloader:\n",
    "        images, labels = data\n",
    "        outputs = net(images)\n",
    "        _, predicted = torch.max(outputs.data, 1)\n",
    "        total += labels.size(0)\n",
    "        correct += (predicted == labels).sum().item()\n",
    "\n",
    "print('Accuracy of the network on the 10000 test images: %d %%' % (\n",
    "    100 * correct / total))"
   ]
  },
  {
   "cell_type": "markdown",
   "id": "69c9d50a-0f0e-4bbf-876a-5b7b2937857c",
   "metadata": {},
   "source": [
    "위의 성능을 보면 약 50% 확률로 답을 맞춤을 알 수 있다. 이게 SOTA 성능은 아니지만, 랜덤으로 10개의 클래스 중 하나를 맞추는 10%확률보다는 낫다. 이것으로 model에서 genenral learning이 약간 일어났음을 알 수 있다."
   ]
  }
 ],
 "metadata": {
  "kernelspec": {
   "display_name": "Python 3 (ipykernel)",
   "language": "python",
   "name": "python3"
  },
  "language_info": {
   "codemirror_mode": {
    "name": "ipython",
    "version": 3
   },
   "file_extension": ".py",
   "mimetype": "text/x-python",
   "name": "python",
   "nbconvert_exporter": "python",
   "pygments_lexer": "ipython3",
   "version": "3.9.12"
  }
 },
 "nbformat": 4,
 "nbformat_minor": 5
}
