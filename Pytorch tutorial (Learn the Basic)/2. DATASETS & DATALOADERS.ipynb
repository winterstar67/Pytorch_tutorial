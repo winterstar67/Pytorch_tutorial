{
 "cells": [
  {
   "cell_type": "markdown",
   "id": "849ce145-1690-42c2-aa25-92f22732b5e1",
   "metadata": {},
   "source": [
    "## 2. DATASETS & DATALOADERS\n",
    "https://pytorch.org/tutorials/beginner/basics/data_tutorial.html"
   ]
  },
  {
   "cell_type": "markdown",
   "id": "9ba2c3f1-8b5b-4935-a35b-199ec55ec267",
   "metadata": {},
   "source": [
    "데이터 processing을 할 때, 코드가 지저분하고 유지하기 어려울 수 있다.  \n",
    "여기서는 Dataset 코드를 모델 training code를 decoupling 하여, 더 읽기 쉽고 모듈화하도록 만든다.  \n",
    "이러한 유지보수와 가독성을 위해 pytorch에서는 torch.utils.data.DataLoader와 torch.utils.data.Dataset을 제공한다.  \n",
    "이 기능은 Dataset을 pre-load하여 사용할 수 있게 해준다.  \n",
    "작동 방식은 Dataset이 sample과 label을 저장하면, DataLoader가 이걸 iterable하게 감싸서 sampling하기 쉽게 만들어주는 식으로 작동한다."
   ]
  },
  {
   "cell_type": "markdown",
   "id": "9cd84efc-ffcd-474c-a2e5-da56707fdda2",
   "metadata": {},
   "source": [
    "`-` 사용자 파일에서 Custom Dataset 만들기"
   ]
  },
  {
   "cell_type": "markdown",
   "id": "b532f879-2c96-4def-909f-be6698884b7d",
   "metadata": {},
   "source": [
    "Custom Dataset class를 만들 때, 반드시 구현해야할 3가지 함수가 있는데, 다음과 같다. 설명은 아래 코드와 함께 보자.\n",
    "- __init__: Custom Dataset의 instance를 만들면 처음에 자동으로 실행되는 함수이다. 아래 코드로 보자면, 이 함수는 처음 instance가 만들어졌을 때, image의 directory를 불러오고 annotation file, transforms를 처음에 설정한다.\n",
    "- __len__: 이 함수는 데이터의 개수를 반환한다. len(list 데이터)와 같은 역할이다.\n",
    "- __getitem__: 인덱싱을 통하여 데이터를 불러와주도록 하는 기능을 한다."
   ]
  },
  {
   "cell_type": "code",
   "execution_count": 10,
   "id": "702f9001-3fb5-4aca-813b-776797761166",
   "metadata": {},
   "outputs": [],
   "source": [
    "import torch\n",
    "from torch.utils.data import Dataset"
   ]
  },
  {
   "cell_type": "code",
   "execution_count": 3,
   "id": "b4ff6d02-0f17-4a84-a903-0917e97eb046",
   "metadata": {},
   "outputs": [],
   "source": [
    "import os\n",
    "import pandas as pd\n",
    "from torchvision.io import read_image\n",
    "\n",
    "class CustomImageDataset(Dataset):\n",
    "    def __init__(self, annotations_file, img_dir, transform=None, target_transform=None):\n",
    "        self.img_labels = pd.read_csv(annotations_file)\n",
    "        self.img_dir = img_dir\n",
    "        self.transform = transform\n",
    "        self.target_transform = target_transform\n",
    "\n",
    "    def __len__(self):\n",
    "        return len(self.img_labels)\n",
    "\n",
    "    def __getitem__(self, idx):\n",
    "        img_path = os.path.join(self.img_dir, self.img_labels.iloc[idx, 0])\n",
    "        image = read_image(img_path)\n",
    "        label = self.img_labels.iloc[idx, 1]\n",
    "        if self.transform:\n",
    "            image = self.transform(image)\n",
    "        if self.target_transform:\n",
    "            label = self.target_transform(label)\n",
    "        return image, label"
   ]
  },
  {
   "cell_type": "markdown",
   "id": "651c866f-070b-4198-9b70-7d2b7429c6f6",
   "metadata": {},
   "source": [
    "`-` Model training을 위한 DataLoaders"
   ]
  },
  {
   "cell_type": "markdown",
   "id": "d8eaceed-e591-4576-bd33-18eb09a1b69f",
   "metadata": {},
   "source": [
    "Dataset은 Dataset의 feature와 label을 하나씩 샘플링한다. 하지만 model training을 할 때를 보면, \n",
    "1. 보통 우리는 `minibatch` 형태로 샘플링을 해서 model에 입력을 준다. \n",
    "2. 또, model의 overfitting을 줄이기 위해, 매 epoch마다 배치를 shuffle 하면서 입력으로 mini batch를 넣어준다.\n",
    "3. Python의 multiprocessing을 사용하여 data retrieval 속도를 높이는 옵션도 고려할 수 있다.\n",
    "\n",
    "DataLoader는 이렇게 유용하면서 직접 구현하기 복잡한 기능들을 abstract하게 만들어 사용자 입장에서 쉬운 API로 사용할 수 있게 해주는 iterable 객체이다.\n",
    "- iterable 객체: 반복 가능한 객체. 대표적인 iterable한 타입으로 list, dict, set, str, bytes, tuple, range 가 있다. (출처: https://wikidocs.net/16068)\n",
    "\n",
    "\n"
   ]
  },
  {
   "cell_type": "markdown",
   "id": "3ca5230f-f3f4-4f04-9bff-51ae208a9573",
   "metadata": {},
   "source": [
    "DataLoader는 아래와 같은 형식으로 구현 가능하다.\n",
    "- 아래 train_data는 Dataset에서 제공하는 Fashion MNIST 데이터를 불러온 것이다."
   ]
  },
  {
   "cell_type": "code",
   "execution_count": null,
   "id": "04ce1b2d-8866-43dc-b6a4-66b1b90fefb5",
   "metadata": {},
   "outputs": [],
   "source": [
    "import torch\n",
    "from torch.utils.data import Dataset\n",
    "from torchvision import datasets\n",
    "from torchvision.transforms import ToTensor\n",
    "import matplotlib.pyplot as plt\n",
    "\n",
    "\n",
    "training_data = datasets.FashionMNIST(\n",
    "    root=\"data\",\n",
    "    train=True,\n",
    "    download=True,\n",
    "    transform=ToTensor()\n",
    ")\n",
    "\n",
    "test_data = datasets.FashionMNIST(\n",
    "    root=\"data\",\n",
    "    train=False,\n",
    "    download=True,\n",
    "    transform=ToTensor()\n",
    ")\n",
    "\n",
    "\n",
    "from torch.utils.data import DataLoader\n",
    "\n",
    "train_dataloader = DataLoader(training_data, batch_size=64, shuffle=True)\n",
    "test_dataloader = DataLoader(test_data, batch_size=64, shuffle=True)"
   ]
  },
  {
   "cell_type": "markdown",
   "id": "ee4e6a47-fd0b-4d3b-a338-0f8da099b19e",
   "metadata": {},
   "source": [
    "Dataset을 DataLoader로 load를 하면, dataset을 iterate할 수 있게된다. 각각 DataLoader의 인자들은,\n",
    "- training_data: Dataset\n",
    "- batch_size: mini-batch의 크기\n",
    "- suffle: 매 epoch마다 데이터 suffle의 유무\n",
    "- Data loader의 iteration마다 반환 형식은 ([1 번째 train_feature, 2 번째 train_feature, ..., 64 번째 train_feature], [1 번째 label, 2 번째 train_label, ..., 64 번째 train_label]) 과 같이 feature와 label 따로 반환된다.\n",
    "    - train_features, train_labels = next(iter(train_dataloader)) 와 같이 feature와 label을 따로 저장할 수 있다.\n",
    "\n"
   ]
  },
  {
   "cell_type": "code",
   "execution_count": 9,
   "id": "b334f1bf-2df5-40cb-b347-958bbaa16e70",
   "metadata": {},
   "outputs": [
    {
     "name": "stdout",
     "output_type": "stream",
     "text": [
      "Feature batch shape: torch.Size([64, 1, 28, 28])\n",
      "Labels batch shape: torch.Size([64])\n"
     ]
    },
    {
     "data": {
      "image/png": "[encoded data removed]",
      "text/plain": [
       "<Figure size 640x480 with 1 Axes>"
      ]
     },
     "metadata": {},
     "output_type": "display_data"
    },
    {
     "name": "stdout",
     "output_type": "stream",
     "text": [
      "Label: 8\n"
     ]
    }
   ],
   "source": [
    "# Display image and label.\n",
    "train_features, train_labels = next(iter(train_dataloader)) # 64개의 batch 이미지, 라벨 반환.\n",
    "print(f\"Feature batch shape: {train_features.size()}\")\n",
    "print(f\"Labels batch shape: {train_labels.size()}\")\n",
    "img = train_features[0].squeeze() # sampling한 64개의 이미지 batch에서 첫 번째 이미지 반환\n",
    "label = train_labels[0] # sampling한 64개의 라벨 batch에서 첫 번째 라벨 반환\n",
    "plt.imshow(img, cmap=\"gray\")\n",
    "plt.show()\n",
    "print(f\"Label: {label}\")"
   ]
  }
 ],
 "metadata": {
  "kernelspec": {
   "display_name": "Python 3 (ipykernel)",
   "language": "python",
   "name": "python3"
  },
  "language_info": {
   "codemirror_mode": {
    "name": "ipython",
    "version": 3
   },
   "file_extension": ".py",
   "mimetype": "text/x-python",
   "name": "python",
   "nbconvert_exporter": "python",
   "pygments_lexer": "ipython3",
   "version": "3.9.12"
  }
 },
 "nbformat": 4,
 "nbformat_minor": 5
}
